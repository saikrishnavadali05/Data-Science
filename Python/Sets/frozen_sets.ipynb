{
 "cells": [
  {
   "cell_type": "code",
   "execution_count": 1,
   "metadata": {
    "ExecuteTime": {
     "end_time": "2021-05-03T15:53:51.288020Z",
     "start_time": "2021-05-03T15:53:51.275418Z"
    }
   },
   "outputs": [],
   "source": [
    "s1 = frozenset([2,3,1])\n",
    "s2 = frozenset([3,4,5])\n",
    "s3 = frozenset([])"
   ]
  },
  {
   "cell_type": "code",
   "execution_count": 3,
   "metadata": {
    "ExecuteTime": {
     "end_time": "2021-05-03T15:55:12.728308Z",
     "start_time": "2021-05-03T15:55:12.706767Z"
    }
   },
   "outputs": [
    {
     "name": "stdout",
     "output_type": "stream",
     "text": [
      "set s3: frozenset({1, 2, 3, 4, 5})\n",
      "set s3: frozenset({1, 2, 3, 4, 5})\n",
      "set s3 length: 5\n"
     ]
    }
   ],
   "source": [
    "s3 = s1.union(s2)\n",
    "print(\"set s3:\", s3)\n",
    "\n",
    "# Union alternative notation\n",
    "s3 = s1 | s2\n",
    "print(\"set s3:\", s3)\n",
    "print(\"set s3 length:\", len(s3))"
   ]
  },
  {
   "cell_type": "code",
   "execution_count": null,
   "metadata": {},
   "outputs": [],
   "source": []
  }
 ],
 "metadata": {
  "kernelspec": {
   "display_name": "Python 3",
   "language": "python",
   "name": "python3"
  },
  "language_info": {
   "codemirror_mode": {
    "name": "ipython",
    "version": 3
   },
   "file_extension": ".py",
   "mimetype": "text/x-python",
   "name": "python",
   "nbconvert_exporter": "python",
   "pygments_lexer": "ipython3",
   "version": "3.8.3"
  }
 },
 "nbformat": 4,
 "nbformat_minor": 4
}
