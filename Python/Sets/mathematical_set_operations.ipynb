{
 "cells": [
  {
   "cell_type": "code",
   "execution_count": 1,
   "metadata": {
    "ExecuteTime": {
     "end_time": "2021-05-03T15:44:54.219904Z",
     "start_time": "2021-05-03T15:44:54.201777Z"
    }
   },
   "outputs": [],
   "source": [
    "tuple1 = (1,2,3)\n",
    "list1 = [2,3,4]"
   ]
  },
  {
   "cell_type": "code",
   "execution_count": 2,
   "metadata": {
    "ExecuteTime": {
     "end_time": "2021-05-03T15:44:55.022893Z",
     "start_time": "2021-05-03T15:44:55.013443Z"
    }
   },
   "outputs": [],
   "source": [
    "s1 = set(tuple1)\n",
    "s2 = set(list1)\n",
    "s3 = {5, 2, 7, 9, 2, 7}"
   ]
  },
  {
   "cell_type": "code",
   "execution_count": 6,
   "metadata": {
    "ExecuteTime": {
     "end_time": "2021-05-03T15:46:25.428230Z",
     "start_time": "2021-05-03T15:46:25.409999Z"
    }
   },
   "outputs": [
    {
     "name": "stdout",
     "output_type": "stream",
     "text": [
      "{1, 2, 3} <class 'set'>\n",
      "{2, 3, 4} <class 'set'>\n",
      "{9, 2, 5, 7} <class 'set'>\n"
     ]
    }
   ],
   "source": [
    "print(s1, type(s1))\n",
    "print(s2, type(s2))\n",
    "print(s3, type(s3))"
   ]
  },
  {
   "cell_type": "code",
   "execution_count": 7,
   "metadata": {
    "ExecuteTime": {
     "end_time": "2021-05-03T15:46:29.695422Z",
     "start_time": "2021-05-03T15:46:29.679714Z"
    }
   },
   "outputs": [
    {
     "name": "stdout",
     "output_type": "stream",
     "text": [
      "{1, 2, 3} 140602270086304\n",
      "{2, 3, 4} 140602019297088\n",
      "{9, 2, 5, 7} 140602019297312\n"
     ]
    }
   ],
   "source": [
    "print(s1, id(s1))\n",
    "print(s2, id(s2))\n",
    "print(s3, id(s3))"
   ]
  },
  {
   "cell_type": "code",
   "execution_count": 8,
   "metadata": {
    "ExecuteTime": {
     "end_time": "2021-05-03T15:47:13.643020Z",
     "start_time": "2021-05-03T15:47:13.628658Z"
    }
   },
   "outputs": [
    {
     "name": "stdout",
     "output_type": "stream",
     "text": [
      "{1, 2, 3, 4}\n",
      "{1, 2, 3} 140602270086304\n"
     ]
    }
   ],
   "source": [
    "s1.union(s2) #returns a new object which contains elements of both the sets\n",
    "print(s1.union(s2))\n",
    "print(s1, id(s1))"
   ]
  },
  {
   "cell_type": "code",
   "execution_count": 9,
   "metadata": {
    "ExecuteTime": {
     "end_time": "2021-05-03T15:48:11.375208Z",
     "start_time": "2021-05-03T15:48:11.360261Z"
    }
   },
   "outputs": [
    {
     "name": "stdout",
     "output_type": "stream",
     "text": [
      "{1, 2, 3, 4} 140602006956288\n",
      "4\n"
     ]
    }
   ],
   "source": [
    "s1 = s1 | s2\n",
    "print(s1, id(s1))\n",
    "print(len(s1))"
   ]
  },
  {
   "cell_type": "code",
   "execution_count": 19,
   "metadata": {
    "ExecuteTime": {
     "end_time": "2021-05-03T15:50:49.169041Z",
     "start_time": "2021-05-03T15:50:49.150532Z"
    }
   },
   "outputs": [
    {
     "name": "stdout",
     "output_type": "stream",
     "text": [
      "{1, 2, 3} 140602014231008\n",
      "{2, 3}\n",
      "{2, 3}\n"
     ]
    }
   ],
   "source": [
    "s3 = s1.intersection(s2)\n",
    "print(s1, id(s1))\n",
    "print(s3)\n",
    "\n",
    "# Intersection Alternative Notation\n",
    "s3 = s1 & s2\n",
    "print(s3)"
   ]
  },
  {
   "cell_type": "code",
   "execution_count": 13,
   "metadata": {
    "ExecuteTime": {
     "end_time": "2021-05-03T15:48:42.632858Z",
     "start_time": "2021-05-03T15:48:42.620624Z"
    }
   },
   "outputs": [
    {
     "name": "stdout",
     "output_type": "stream",
     "text": [
      "{1}\n"
     ]
    }
   ],
   "source": [
    "s3 = s1.difference(s2)\n",
    "print(s3)"
   ]
  },
  {
   "cell_type": "code",
   "execution_count": 14,
   "metadata": {
    "ExecuteTime": {
     "end_time": "2021-05-03T15:48:46.598274Z",
     "start_time": "2021-05-03T15:48:46.581985Z"
    }
   },
   "outputs": [
    {
     "name": "stdout",
     "output_type": "stream",
     "text": [
      "set()\n"
     ]
    }
   ],
   "source": [
    "s3 = s2 - s1\n",
    "print(s3)"
   ]
  },
  {
   "cell_type": "code",
   "execution_count": 16,
   "metadata": {
    "ExecuteTime": {
     "end_time": "2021-05-03T15:49:39.393344Z",
     "start_time": "2021-05-03T15:49:39.380675Z"
    }
   },
   "outputs": [
    {
     "name": "stdout",
     "output_type": "stream",
     "text": [
      "{1, 4}\n"
     ]
    }
   ],
   "source": [
    "s1 = set(tuple1)\n",
    "s3 = s1.symmetric_difference(s2)\n",
    "print(s3)"
   ]
  },
  {
   "cell_type": "code",
   "execution_count": 17,
   "metadata": {
    "ExecuteTime": {
     "end_time": "2021-05-03T15:49:41.866009Z",
     "start_time": "2021-05-03T15:49:41.854384Z"
    }
   },
   "outputs": [
    {
     "name": "stdout",
     "output_type": "stream",
     "text": [
      "{1, 4}\n"
     ]
    }
   ],
   "source": [
    "s3 = s1 ^ s2\n",
    "# Symmetric difference alternative notation\n",
    "print(s3)"
   ]
  }
 ],
 "metadata": {
  "kernelspec": {
   "display_name": "Python 3",
   "language": "python",
   "name": "python3"
  },
  "language_info": {
   "codemirror_mode": {
    "name": "ipython",
    "version": 3
   },
   "file_extension": ".py",
   "mimetype": "text/x-python",
   "name": "python",
   "nbconvert_exporter": "python",
   "pygments_lexer": "ipython3",
   "version": "3.8.3"
  }
 },
 "nbformat": 4,
 "nbformat_minor": 4
}
