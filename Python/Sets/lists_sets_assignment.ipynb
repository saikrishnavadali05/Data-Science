{
 "cells": [
  {
   "cell_type": "code",
   "execution_count": 1,
   "metadata": {
    "ExecuteTime": {
     "end_time": "2021-05-03T14:59:54.999457Z",
     "start_time": "2021-05-03T14:59:54.988212Z"
    }
   },
   "outputs": [],
   "source": [
    "# Given the marks of students, find the sum and average of marks using lists."
   ]
  },
  {
   "cell_type": "code",
   "execution_count": 28,
   "metadata": {
    "ExecuteTime": {
     "end_time": "2021-05-03T15:12:27.430854Z",
     "start_time": "2021-05-03T15:12:27.414325Z"
    }
   },
   "outputs": [
    {
     "name": "stdout",
     "output_type": "stream",
     "text": [
      "[50, 98, 84, 86, 73, 56, 70, 94, 89, 58]\n",
      "75.8\n"
     ]
    }
   ],
   "source": [
    "# List of random 10 subject marks in the range of 50 to 100\n",
    "import random\n",
    "lower_range = 50\n",
    "higher_range = 100\n",
    "\n",
    "marks_list = [50, 98, 84, 86, 73, 56, 70, 94, 89, 58]\n",
    "\n",
    "print(marks_list)\n",
    "\n",
    "average_marks = sum(marks_list) / len(marks_list)\n",
    "\n",
    "print(average_marks)"
   ]
  },
  {
   "cell_type": "code",
   "execution_count": null,
   "metadata": {},
   "outputs": [],
   "source": []
  },
  {
   "cell_type": "code",
   "execution_count": null,
   "metadata": {},
   "outputs": [],
   "source": []
  }
 ],
 "metadata": {
  "kernelspec": {
   "display_name": "Python 3",
   "language": "python",
   "name": "python3"
  },
  "language_info": {
   "codemirror_mode": {
    "name": "ipython",
    "version": 3
   },
   "file_extension": ".py",
   "mimetype": "text/x-python",
   "name": "python",
   "nbconvert_exporter": "python",
   "pygments_lexer": "ipython3",
   "version": "3.8.3"
  }
 },
 "nbformat": 4,
 "nbformat_minor": 4
}
